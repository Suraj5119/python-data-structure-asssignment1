{
 "cells": [
  {
   "cell_type": "markdown",
   "id": "d4136616-9de8-4554-afd1-4efa438c186c",
   "metadata": {},
   "source": [
    "Que1: Discuss String Slicing and Provide Examples\n",
    "Ans:String slicing in Python allows you to access a subset of a string by specifying a range of indices. The syntax for slicing\n",
    "    is string[start:stop:step], where:\n",
    "    start: The starting index of the slice (inclusive).\n",
    "    stop: The ending index of the slice (exclusive).\n",
    "    step: The interval between characters in the slice.\n",
    "    eg:-"
   ]
  },
  {
   "cell_type": "code",
   "execution_count": 5,
   "id": "d7ee148c-449a-4a10-b167-5d4dbf1ea1bd",
   "metadata": {},
   "outputs": [
    {
     "data": {
      "text/plain": [
       "'Hlo ol!'"
      ]
     },
     "execution_count": 5,
     "metadata": {},
     "output_type": "execute_result"
    }
   ],
   "source": [
    "text = \"Hello, World!\"\n",
    "# text[0:5] \n",
    "# text[-6:-1]\n",
    "text[::2]"
   ]
  },
  {
   "cell_type": "markdown",
   "id": "0dc5dbd2-b1d3-417a-b30c-13d6e50f6200",
   "metadata": {},
   "source": [
    "Que2:Explain the Key Features of Lists in Python\n",
    "Ans:Lists in Python are:\n",
    "    Ordered: Elements have a specific order, and the order is maintained.\n",
    "    Mutable: Elements can be changed, added, or removed.\n",
    "    Heterogeneous: Can contain elements of different data types (e.g., integers, strings, etc.).\n",
    "    Dynamic Size: Can grow or shrink in size as elements are added or removed.\n",
    "    Indexable: Elements can be accessed via their index using square brackets.\n",
    "    eg:-"
   ]
  },
  {
   "cell_type": "code",
   "execution_count": 6,
   "id": "7c9e70cb-ff7b-48f3-825b-c737c9b19713",
   "metadata": {},
   "outputs": [
    {
     "name": "stdout",
     "output_type": "stream",
     "text": [
      "apple\n"
     ]
    }
   ],
   "source": [
    "my_list = [1, \"apple\", 3.14, True]\n",
    "print(my_list[1]) "
   ]
  },
  {
   "cell_type": "code",
   "execution_count": 7,
   "id": "5d27e2da-2b39-49d4-ba1d-6aee28331196",
   "metadata": {},
   "outputs": [
    {
     "name": "stdout",
     "output_type": "stream",
     "text": [
      "30\n"
     ]
    }
   ],
   "source": [
    "# Que3:Describe How to Access, Modify, and Delete Elements in a List with Examples\n",
    "\n",
    "# Ans:- Access: Use the index of the element in square brackets.\n",
    "my_list = [10, 20, 30, 40]\n",
    "print(my_list[2]) \n"
   ]
  },
  {
   "cell_type": "code",
   "execution_count": 8,
   "id": "747ff733-6cbd-4347-bd9f-083c20141037",
   "metadata": {},
   "outputs": [
    {
     "name": "stdout",
     "output_type": "stream",
     "text": [
      "[10, 20, 300, 40]\n"
     ]
    }
   ],
   "source": [
    "# Modify:- Assign a new value to the list element using its index.\n",
    "my_list[2] = 300\n",
    "print(my_list) "
   ]
  },
  {
   "cell_type": "code",
   "execution_count": 9,
   "id": "584e20b1-2ce0-4dfd-81f1-1771e1e4ab9f",
   "metadata": {},
   "outputs": [
    {
     "data": {
      "text/plain": [
       "[10, 20, 40]"
      ]
     },
     "execution_count": 9,
     "metadata": {},
     "output_type": "execute_result"
    }
   ],
   "source": [
    "# Delete:- Use the del keyword, pop(), or remove() methods.\n",
    "del my_list[2]\n",
    "my_list  \n"
   ]
  },
  {
   "cell_type": "markdown",
   "id": "bfce2937-c046-482e-8886-ca80bd42d706",
   "metadata": {},
   "source": [
    "# Que4:-Compare and Contrast Tuples and Lists with Examples\n",
    "Tuples:\n",
    "    Immutable: Once created, elements cannot be changed.\n",
    "    Ordered: Elements have a specific order.\n",
    "    Indexable: Elements can be accessed by index.\n",
    "    Heterogeneous: Can contain elements of different data types.\n",
    "    Syntax: Defined using parentheses ().\n",
    "\n",
    "Lists:\n",
    "    Mutable: Elements can be modified, added, or removed.\n",
    "    Ordered: Elements have a specific order.\n",
    "    Indexable: Elements can be accessed by index.\n",
    "    Heterogeneous: Can contain elements of different data types.\n",
    "    Syntax: Defined using square brackets [].\n",
    "\n",
    "eg:-"
   ]
  },
  {
   "cell_type": "code",
   "execution_count": 10,
   "id": "e4f7e7db-9f0b-40f5-9345-a245402a9001",
   "metadata": {},
   "outputs": [
    {
     "data": {
      "text/plain": [
       "20"
      ]
     },
     "execution_count": 10,
     "metadata": {},
     "output_type": "execute_result"
    }
   ],
   "source": [
    "# Tuple example\n",
    "my_tuple = (10, 20, 30)\n",
    "my_tuple[1] "
   ]
  },
  {
   "cell_type": "code",
   "execution_count": 11,
   "id": "97faa3aa-aa9f-47b0-a417-70dfc75794e4",
   "metadata": {},
   "outputs": [
    {
     "data": {
      "text/plain": [
       "[10, 200, 30]"
      ]
     },
     "execution_count": 11,
     "metadata": {},
     "output_type": "execute_result"
    }
   ],
   "source": [
    "# List example\n",
    "my_list = [10, 20, 30]\n",
    "my_list[1] = 200\n",
    "my_list"
   ]
  },
  {
   "cell_type": "markdown",
   "id": "276356d6-bffe-4bb1-9c2e-6cd1f324f04a",
   "metadata": {},
   "source": [
    "# Que5:-Describe the Key Features of Sets and Provide Examples of Their Use\n",
    "Ans:-Sets in Python are:\n",
    "    Unordered: No specific order, so elements cannot be accessed by index.\n",
    "    Mutable: Elements can be added or removed, but the elements themselves must be immutable.\n",
    "    Unique: No duplicate elements.\n",
    "    Used for: Membership tests, removing duplicates, and set operations (like union, intersection).\n",
    "  eg:-"
   ]
  },
  {
   "cell_type": "code",
   "execution_count": 12,
   "id": "0a6115a7-8990-4bda-afdc-83c2544ce220",
   "metadata": {},
   "outputs": [
    {
     "data": {
      "text/plain": [
       "{1, 2, 3, 4}"
      ]
     },
     "execution_count": 12,
     "metadata": {},
     "output_type": "execute_result"
    }
   ],
   "source": [
    "my_set = {1, 2, 3, 4, 4}\n",
    "my_set"
   ]
  },
  {
   "cell_type": "markdown",
   "id": "b4545857-a09c-4480-846b-72c518bd67c9",
   "metadata": {},
   "source": [
    "Que6:-Discuss the Use Cases of Tuples and Sets in Python Programming\n",
    "Ans:- Tuples:\n",
    "    Used when a fixed collection of items is needed (e.g., coordinates, RGB values).\n",
    "    Often used to return multiple values from a function.\n",
    "    Used as keys in dictionaries (since tuples are immutable).\n",
    "\n",
    "Sets:\n",
    "    Used for membership testing (checking if an item exists in a collection).\n",
    "    Useful in removing duplicates from a collection.\n",
    "    Efficient for set operations like union, intersection, and difference."
   ]
  },
  {
   "cell_type": "code",
   "execution_count": 13,
   "id": "b55cc83c-1a81-4e38-b0c5-b0e837295ae0",
   "metadata": {},
   "outputs": [
    {
     "data": {
      "text/plain": [
       "{'name': 'Alice', 'age': 26, 'city': 'New York'}"
      ]
     },
     "execution_count": 13,
     "metadata": {},
     "output_type": "execute_result"
    }
   ],
   "source": [
    "# Que7:-Describe How to Add, Modify, and Delete Items in a Dictionary with Examples\n",
    "# Ans: Add/Modify: Use the key to add a new key-value pair or update an existing one.\n",
    "\n",
    "my_dict = {'name': 'Alice', 'age': 25}\n",
    "my_dict['age'] = 26  # Modify\n",
    "my_dict['city'] = 'New York'  # Add\n",
    "my_dict "
   ]
  },
  {
   "cell_type": "code",
   "execution_count": 14,
   "id": "1aba480c-cd34-4c0e-a678-51a6fcf536c5",
   "metadata": {},
   "outputs": [
    {
     "data": {
      "text/plain": [
       "{'name': 'Alice', 'city': 'New York'}"
      ]
     },
     "execution_count": 14,
     "metadata": {},
     "output_type": "execute_result"
    }
   ],
   "source": [
    "# Delete: Use the del keyword, pop(), or popitem().\n",
    "del my_dict['age']\n",
    "my_dict  "
   ]
  },
  {
   "cell_type": "markdown",
   "id": "d1e0f08c-14df-4c6c-860e-a05223157485",
   "metadata": {},
   "source": [
    "Que8:-Discuss the Importance of Dictionary Keys Being Immutable and Provide Examples\n",
    "Ans: Dictionary keys must be immutable because dictionaries rely on hashing for quick access, and the hash value of a key \n",
    "must not change. Immutable types like strings, numbers, and tuples have consistent hash values.\n",
    "eg:-"
   ]
  },
  {
   "cell_type": "code",
   "execution_count": null,
   "id": "2c761c9c-ea44-4d51-b58a-c7605cee03bc",
   "metadata": {},
   "outputs": [],
   "source": [
    "# Valid keys\n",
    "my_dict = {\n",
    "    'name': 'Alice',  \n",
    "    42: 'Answer',     \n",
    "    (1, 2): 'Tuple'   \n",
    "}\n",
    "\n",
    "# Invalid keys (this will raise an error)\n",
    "invalid_dict = {\n",
    "    [1, 2, 3]: 'List' \n"
   ]
  },
  {
   "cell_type": "code",
   "execution_count": null,
   "id": "fb76e58b-fbbd-4597-a2b1-83fd8720304c",
   "metadata": {},
   "outputs": [],
   "source": []
  }
 ],
 "metadata": {
  "kernelspec": {
   "display_name": "Python 3 (ipykernel)",
   "language": "python",
   "name": "python3"
  },
  "language_info": {
   "codemirror_mode": {
    "name": "ipython",
    "version": 3
   },
   "file_extension": ".py",
   "mimetype": "text/x-python",
   "name": "python",
   "nbconvert_exporter": "python",
   "pygments_lexer": "ipython3",
   "version": "3.10.8"
  }
 },
 "nbformat": 4,
 "nbformat_minor": 5
}
